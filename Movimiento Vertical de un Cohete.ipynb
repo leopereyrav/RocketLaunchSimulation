{
 "cells": [
  {
   "cell_type": "markdown",
   "metadata": {},
   "source": [
    "# <center><span style=\"color:#2471A3\">MOVIMIENTO VERTICAL DE UN COHETE</center>\n",
    "\n",
    "<img src=\"http://www.zastavki.com/pictures/originals/2014/Space_The_launch_of_space_ship_071446_.jpg\" width=\"400\" height=\"400\" align=\"center\">\n",
    "### <span style=\"color:#73C6B6\"><p style=\"text-align: justify;\">En este proyecto, desarrollaremos una explicación físico-matemática aproximada del despegue de un cohete desde la superficie de un planeta. Podremos calcular datos interesantes como la velocidad máxima, la cantidad de combustible necesaria para salir de la atmósfera del planeta, el tiempo que tarda el cohete para este propósito y otros parámetros importantes. Finalmente, para este fin, consideraremos que la velocidad de consumo de combustible es constante y que no hay arrastre aerodinámico.</p><br>\n",
    "## <span style=\"color:#F39C12\">Análisis físico-matemático\n",
    "\n",
    "<img src=\"http://www.sc.ehu.es/sbweb/fisica_/dinamica/cohetes/cohete3/momento1.gif\" align=\"right\">\n",
    "Consideremos un cohete que en el instante $t$, tiene una masa $m$ y una velocidad $v$ tomando el planeta como referencia.\n",
    "\n",
    "En el instante $(t+Δt)$, se expulsa una masa $Δμ$ de combustible con una velocidad constante $–u$ relativa al cohete, debido a esto, la velocidad de la masa restante $(m-Δμ)$ del cohete se incrementa simultaneamente en $(v+Δv)$.\n",
    "\n",
    "En el instante $t$, el cohete de masa $m$ lleva una velocidad $v$. El momento lineal es \n",
    "\n",
    "$$P(t)=mv$$\n",
    "\n",
    "En el instante $(t+Δt)$, el cohete tiene una masa $(m-Δμ)$ y su velocidad es $(v+Δv)$.\n",
    "La masa expulsada o combustible consumido $Δμ$ posee una velocidad $–u$ respecto del cohete o una velocidad $(–u+ v)$ respecto del planeta. Por ello, el momento lineal en este instante es\n",
    "\n",
    "$$P(t+\\triangle{t})=(m-\\triangle{\\mu})(v+\\triangle{v})+\\triangle{\\mu}(-u+v)$$\n",
    "\n",
    "La variación de momento lineal es\n",
    "\n",
    "$$\\triangle{P}=P(t+\\triangle{t})-P(t)=(m\\cdot\\triangle{v})-(u\\cdot\\triangle{\\mu})-(\\triangle{u}\\cdot\\triangle{v})$$\n",
    "\n",
    "Si consideramos que la variación del tiempo tiende a cero, es decir, cuando $Δt→0$:\n",
    "\n",
    "$$\\frac{\\text{d}P}{\\text{d}t}=m\\frac{\\text{d}v}{\\text{d}t}-u\\frac{\\text{d}\\mu}{\\text{d}t}$$\n",
    "\n",
    "La variación de momento lineal es ocasionada por la acción de fuerzas externas (la fuerza de atracción gravitatoria, cuya dirección es contraria al momento lineal).\n",
    "\n",
    "$$\\frac{\\text{d}P}{\\text{d}t}=-mg$$\n",
    "\n",
    "Por otra parte, la masa del sistema $M$ formado por el cohete $m$ y el combustible expulsado $\\triangle{\\mu}$ es constante $M=\\mu+m$, por lo que ${\\text{d}\\mu}+{\\text{d}m}=0$. Deducimos que la masa del cohete disminuye en ${\\text{d}m}$ y la masa del combustible expulsado aumenta en la misma cantidad.\n",
    "\n",
    "La ecuación del movimiento del cohete se escribe:\n",
    "\n",
    "$$-mg=m\\frac{\\text{d}v}{\\text{d}t}+u\\frac{\\text{d}m}{\\text{d}t}$$<br>\n",
    "<img src=\"http://www.sc.ehu.es/sbweb/fisica_/dinamica/cohetes/cohete3/momento2.gif\" align=\"left\">\n",
    "Supongamos que la cantidad de combustible consumido en el tiempo, $D$, es constante, $D=-\\frac{\\text{d}m}{\\text{d}t}$. La masa $m$ del cohete en el instante $t$ valdrá $m=m_{0}-D\\cdot{t}$. Donde $m_{0}$ es la suma de la carga útil más el combustible inicial, y $D·t$ es el combustible quemado al cabo de un cierto tiempo $t$.\n",
    "\n",
    "$$m\\frac{\\text{d}v}{\\text{d}t}=uD−mg$$\n",
    "\n",
    "$$\\frac{\\text{d}v}{\\text{d}t}=−g+u\\frac{D}{m_{0}-Dt}$$\n",
    "\n",
    "Se integra: $$\\int_{v_{0}}^{v}{\\text{d}v}=\\int_{0}^{t}\\left(−g+u\\frac{D}{m_{0}-Dt}\\right){\\text{d}t}$$\n",
    "\n",
    "Obtenemos la ecuación de la velocidad en el instante $t$.\n",
    "\n",
    "$$v=v_{0}−gt+u⋅\\ln{\\frac{m_{0}}{m_{0}−Dt}}$$\n",
    "\n",
    "Se vuelve a integrar: $$x-x_{0}=\\int_{0}^{t}v\\cdot{\\text{d}t}$$\n",
    "\n",
    "Obtenemos la ecuación de la posición del cohete en el instante $t$.\n",
    "\n",
    "$$x=x_{0}+v_{0}t−\\frac{1}{2}gt^{2}+ut\\ln{m_{0}}+\\frac{u}{D}[(m_{0}−Dt)\\ln{(m_{0}−Dt)}+Dt−m_{0}\\ln{m_{0}}]$$<br>\n",
    "\n",
    "## <span style=\"color:##2ECC71\">Ejemplo en la superficie terrestre\n",
    "\n",
    "* Combustible total en el cohete: 1.0 kg\n",
    "* Carga útil: 2.0 kg\n",
    "* Combustible consumido por segundo ($D$): 0.1 kg/s\n",
    "* Velocidad de salida de los gases ($u$): 1000 m/s\n",
    "\n",
    "**Fuerzas sobre el cohete**\n",
    "   \n",
    "Masa total del cohete = carga útil + combustible \n",
    "\n",
    "$$m_{0} = 2.0+1.0=3.0 kg$$\n",
    "\n",
    "El empuje $u·D$ (100 N) es mayor que el peso del cohete $m_{0}·g$ (29.43 N). \n",
    "\n",
    "**Tiempo que tarda en agotarse el combustible**\n",
    "\n",
    "Debido a que hay 1.0 kg de combustible que se consume a razón de 0.1 kg/s, el combustible se agota en el instante $t_{0} = 10 s$.\n",
    "\n",
    "**Velocidad máxima alcanzada por el cohete**\n",
    "   \n",
    "$$v=−9.8⋅t_{0}+u⋅\\ln{\\frac{m_{0}}{m_{0}−Dt_{0}}}$$\n",
    "\n",
    "$$v=−9.8⋅10+1000⋅\\ln{\\frac{3}{3−1}}$$\n",
    "\n",
    "$$v = 307.37 m/s$$\n",
    "\n",
    "**Altura alcanzada hasta que se agota el combustible**\n",
    "   \n",
    "$$x=−\\frac{1}{2}gt_{0}^{2}+ut_{0}\\ln{m_{0}}+\\frac{u}{D}[(m_{0}−Dt_{0})\\ln{(m_{0}−Dt_{0})}+Dt_{0}−m_{0}\\ln{m_{0}}]$$\n",
    "\n",
    "$$x=−4.905⋅10^{2}+1000⋅10⋅\\ln{3}+\\frac{1000}{0.1}[2\\ln{2}+1−3\\ln{3}]$$\n",
    "\n",
    "$$x = 1400.20 m$$\n",
    "\n",
    "**Luego de agotarse el combustible, el cohete continua su movimiento hasta alcanzar la máxima altura**\n",
    "\n",
    "Las ecuaciones del movimiento son:\n",
    "\n",
    "$$v=v_{0}−g(t−t_{0})$$\n",
    "\n",
    "$$x=x_{0}+v_{0}(t−t_{0})−\\frac{1}{2}g(t−t_{0})^{2}$$\n",
    "\n",
    "Donde $x_{0}$ , $v_{0}$ es la posición, velocidad del cohete en el instante $t_{0}$ en el que se ha agotado el combustible.\n",
    "\n",
    "La altura máxima se alcanza cuando $v = 0$, en el instante $t = 41.33 s$. La posición del cohete en dicho instante es $x = 6215.35 m.$\n",
    "\n",
    "## <span style=\"color:##2ECC71\">Datos de los Cuerpos Celestes del Sistema Solar\n",
    "![Cuerpos Celestes](https://schoolphysics.files.wordpress.com/2011/04/planetas1.png)"
   ]
  },
  {
   "cell_type": "code",
   "execution_count": 1,
   "metadata": {
    "collapsed": false
   },
   "outputs": [
    {
     "name": "stdout",
     "output_type": "stream",
     "text": [
      "m : Carga util del cohete [kg]\n",
      "mu : Cantidad de combustible [kg]\n",
      "D : Combustible consumido por segundo [kg/s]\n",
      "u : Velocidad de salida de los gases [m/s]\n",
      "o : Cuerpo Celeste\n",
      "\n",
      "\tMasa total del cohete: 3.00 kg \n",
      "\tEl peso del cohete es 29.43 N\n",
      "\tEl empuje generado por la salida de los gases es 100.0 N\n",
      "\tEl combustible se agota luego de 10.0 s\n",
      "\tLa velocidad máxima alcanzada por el cohete es 307.37 m/s\n",
      "\tLa altura alcanzada hasta que se agota el combustible es 1400.2 m\n",
      "\tEl cohete alcanza una altura máxima de 6215.35 m en el instante 41.33 s\n"
     ]
    },
    {
     "data": {
      "image/png": "[encoded data removed]",
      "text/plain": [
       "<matplotlib.figure.Figure at 0x4f5b208>"
      ]
     },
     "metadata": {},
     "output_type": "display_data"
    },
    {
     "data": {
      "image/png": "[encoded data removed]",
      "text/plain": [
       "<matplotlib.figure.Figure at 0x837c5c0>"
      ]
     },
     "metadata": {},
     "output_type": "display_data"
    },
    {
     "data": {
      "text/plain": [
       "<function __main__.f>"
      ]
     },
     "execution_count": 1,
     "metadata": {},
     "output_type": "execute_result"
    }
   ],
   "source": [
    "from ipywidgets import *\n",
    "import matplotlib.pyplot as plt\n",
    "import numpy as np\n",
    "%matplotlib inline\n",
    "\n",
    "def f(m,mu,D,u,o):\n",
    "    \n",
    "    pla = {\"Mercurio\":3.72,\"Venus\":8.82,\"Tierra\":9.81,\"Luna\":1.66,\"Marte\":3.72,\"Jupiter\":23.13,\"Saturno\":9.01,\"Urano\":8.72,\"Neptuno\":10.97}\n",
    "    \n",
    "    print(\"m : Carga util del cohete [kg]\")\n",
    "    print(\"mu : Cantidad de combustible [kg]\")  \n",
    "    print(\"D : Combustible consumido por segundo [kg/s]\")  \n",
    "    print(\"u : Velocidad de salida de los gases [m/s]\") \n",
    "    print(\"o : Cuerpo Celeste\\n\") \n",
    "\n",
    "    if m == \"\":m = \"0\"\n",
    "    if mu == \"\":mu = \"0\"  \n",
    "    if D == \"\":D = \"0\"\n",
    "    if u == \"\":u = \"0\" \n",
    "        \n",
    "    if m.replace('.','',1).isdigit() and mu.replace('.','',1).isdigit() and D.replace('.','',1).isdigit() and u.replace('.','',1).isdigit():   \n",
    "        m = float(m)\n",
    "        mu = float(mu)\n",
    "        D = float(D)\n",
    "        u = float(u)\n",
    "        \n",
    "        if mu > 0 and m > 0 and D > 0 and u > 0:\n",
    "            g = pla[o]\n",
    "            m0 = m + mu    \n",
    "\n",
    "            t0 = mu/D\n",
    "        \n",
    "            if u*np.log((m0/(m0-D*t0))+ 10e-20) > g*t0 and u*D >= m0*g:\n",
    "\n",
    "                v0 = -g*t0 + u*np.log((m0/(m0-D*t0))+ 10e-20)\n",
    "                x0 = -0.5*g*t0**2 + u*t0*np.log(m0 + 10e-20) + (u/D)*(((m0-D*t0)*np.log(m0-D*t0 + 10e-20)) + D*t0 - m0*np.log(m0 + 10e-20))\n",
    "                t = (v0/g) + t0\n",
    "                x = x0 + v0*(t-t0) - 0.5*g*(t-t0)**2\n",
    "\n",
    "                print(\"\\tMasa total del cohete: {:.2f} kg \".format(m0))\n",
    "                print(\"\\tEl peso del cohete es {} N\".format(round(m0*g,2)))\n",
    "                print(\"\\tEl empuje generado por la salida de los gases es {} N\".format(round(u*D,2)))\n",
    "                print(\"\\tEl combustible se agota luego de {} s\".format(round(t0,2)))\n",
    "                print(\"\\tLa velocidad máxima alcanzada por el cohete es {} m/s\".format(round(v0,2)))\n",
    "                print(\"\\tLa altura alcanzada hasta que se agota el combustible es {} m\".format(round(x0,2)))\n",
    "                print(\"\\tEl cohete alcanza una altura máxima de {} m en el instante {} s\".format(round(x,2),round(t,2)))\n",
    "\n",
    "                t1 = np.linspace(0,t0,20)\n",
    "                x1 = -0.5*g*t1**2 + u*t1*np.log(m0+ 10e-20) + (u/D)*(((m0-D*t1)*np.log(m0-D*t1+ 10e-20)) + D*t1 - m0*np.log(m0+ 10e-20))\n",
    "                v1 = -g*t1 + u*np.log((m0/(m0-D*t1))+ 10e-20)\n",
    "\n",
    "                t2 = np.linspace(t0,t,20)\n",
    "                x2 = x0 + v0*(t2-t0) - 0.5*g*(t2-t0)**2\n",
    "                v2 = v0 - g*(t2-t0)\n",
    "\n",
    "                plt.plot(t1,x1,'r',t2,x2,'--g')\n",
    "                plt.title(\"POSICIÓN DEL COHETE\")\n",
    "                plt.xlabel(\"tiempo[s]\")\n",
    "                plt.ylabel(\"Altura[m]\")\n",
    "                plt.legend([\"con combustible\",\"sin combustible\"])\n",
    "                plt.show()\n",
    "\n",
    "                plt.plot(t1,v1,'r',t2,v2,'--g')\n",
    "                plt.title(\"VELOCIDAD DEL COHETE\")\n",
    "                plt.xlabel(\"tiempo[s]\")\n",
    "                plt.ylabel(\"Velocidad[m/s]\") \n",
    "                plt.legend([\"con combustible\",\"sin combustible\"])\n",
    "                plt.show()\n",
    "\n",
    "            else:\n",
    "                print(\"Debe introducir otros valores.\")\n",
    "        elif (mu > 0 and m > 0 and D < 0) or (mu > 0 and m > 0 and u < 0):\n",
    "            print(\"Introduzca otros valores.\")\n",
    "        elif mu > 0 and m == 0:\n",
    "            print(\"Lamentablemente, no colonizaremos Marte, porque no hay cohete.\")\n",
    "        elif mu > 0 and m < 0:\n",
    "            print(\"Sabemos que existen partículas con masa negativa, pero este cohete no es un ejemplo de ello.\")\n",
    "        elif mu <= 0 and m <= 0:\n",
    "            print(\"No hay cohete ni combustible. Al parecer, alguien no quiere explorar otros mundos.\")\n",
    "        elif mu < 0 and m > 0: \n",
    "            print(\"Debe introducir otros valores.\")\n",
    "        elif mu == 0 and m > 0: \n",
    "            print(\"El cohete no tiene combustible.\")\n",
    "        \n",
    "    else:\n",
    "        print(\"Debe introducir valores numéricos.\") \n",
    "        \n",
    "# m = 100000, mu = 225000, D = 2500, u = 3000 --> Valores de cohetes espaciales (aproximación) \n",
    "\n",
    "interact(f,m=\"2.0\",mu=\"1.0\",D=\"0.1\",u=\"1000\",o=[\"Tierra\",\"Luna\",\"Mercurio\",\"Venus\",\"Marte\",\"Jupiter\",\"Saturno\",\"Urano\",\"Neptuno\"])"
   ]
  },
  {
   "cell_type": "code",
   "execution_count": null,
   "metadata": {
    "collapsed": true
   },
   "outputs": [],
   "source": []
  }
 ],
 "metadata": {
  "kernelspec": {
   "display_name": "Python 3",
   "language": "python",
   "name": "python3"
  },
  "language_info": {
   "codemirror_mode": {
    "name": "ipython",
    "version": 3
   },
   "file_extension": ".py",
   "mimetype": "text/x-python",
   "name": "python",
   "nbconvert_exporter": "python",
   "pygments_lexer": "ipython3",
   "version": "3.6.0"
  },
  "widgets": {
   "state": {
    "d0649f585456425c9e6832150e1c2448": {
     "views": [
      {
       "cell_index": 1
      }
     ]
    }
   },
   "version": "1.2.0"
  }
 },
 "nbformat": 4,
 "nbformat_minor": 2
}
